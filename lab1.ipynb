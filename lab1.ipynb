{
  "cells": [
    {
      "cell_type": "markdown",
      "metadata": {
        "id": "view-in-github",
        "colab_type": "text"
      },
      "source": [
        "<a href=\"https://colab.research.google.com/github/Lokitha-S/gen_ai/blob/main/lab1.ipynb\" target=\"_parent\"><img src=\"https://colab.research.google.com/assets/colab-badge.svg\" alt=\"Open In Colab\"/></a>"
      ]
    },
    {
      "cell_type": "markdown",
      "metadata": {
        "id": "bH7ioVkWv1CW"
      },
      "source": [
        "Explore pre-trained word vectors. Explore word relationships using vector arithmetic. Perform arithmetic\n",
        "operations and analyze results."
      ]
    },
    {
      "cell_type": "code",
      "execution_count": null,
      "metadata": {
        "colab": {
          "background_save": true,
          "base_uri": "https://localhost:8080/"
        },
        "id": "fDDJgpL6v7HN",
        "outputId": "13eceb1a-9233-4fef-bd57-557c3fe22e59"
      },
      "outputs": [
        {
          "name": "stdout",
          "output_type": "stream",
          "text": [
            "[==================================================] 100.0% 1662.8/1662.8MB downloaded\n",
            "[('king', 0.4048772156238556)]\n",
            "[('dogs', 0.8680489659309387), ('puppy', 0.8106428384780884), ('pit_bull', 0.780396044254303), ('pooch', 0.7627376914024353), ('cat', 0.7609457969665527)]\n"
          ]
        }
      ],
      "source": [
        "import gensim.downloader as api\n",
        "word_vec=api.load('word2vec-google-news-300')\n",
        "result=word_vec['king']-word_vec['man']-word_vec['woman']\n",
        "similar=word_vec.most_similar([result],topn=1)\n",
        "print(similar)\n",
        "similar=word_vec.most_similar('dog',topn=5)\n",
        "print(similar)\n",
        "result=word_vec.most_similar(positive=['king','woman'],negative=['man'],topn=1)"
      ]
    },
    {
      "cell_type": "code",
      "execution_count": 3,
      "metadata": {
        "id": "dokQsAiRxdoV",
        "colab": {
          "base_uri": "https://localhost:8080/"
        },
        "outputId": "8deb7905-aabc-4da7-ba58-3deca5672aa3"
      },
      "outputs": [
        {
          "output_type": "stream",
          "name": "stdout",
          "text": [
            "hello world!!\n"
          ]
        }
      ],
      "source": [
        "print('hello world!!')"
      ]
    },
    {
      "cell_type": "code",
      "source": [],
      "metadata": {
        "id": "O90hRim94ATA"
      },
      "execution_count": null,
      "outputs": []
    }
  ],
  "metadata": {
    "colab": {
      "provenance": [],
      "toc_visible": true,
      "authorship_tag": "ABX9TyN2zRnEQSu/k9gFAE4y75LZ",
      "include_colab_link": true
    },
    "kernelspec": {
      "display_name": "Python 3",
      "name": "python3"
    },
    "language_info": {
      "name": "python"
    }
  },
  "nbformat": 4,
  "nbformat_minor": 0
}